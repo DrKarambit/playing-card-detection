{
 "cells": [
  {
   "cell_type": "code",
   "execution_count": 15,
   "metadata": {},
   "outputs": [],
   "source": [
    "import os\n",
    "import numpy as np\n",
    "import cv2\n",
    "import matplotlib.pyplot as plt\n",
    "from image_manipulation import *"
   ]
  },
  {
   "cell_type": "code",
   "execution_count": 16,
   "metadata": {},
   "outputs": [],
   "source": [
    "RANKS = ('2', '3', '4', '5', '6', '7', '8', '9', '10', 'J', 'Q', 'K', 'A')\n",
    "SUITS = ('clubs', 'diamonds', 'hearts', 'spades')"
   ]
  },
  {
   "cell_type": "code",
   "execution_count": 17,
   "metadata": {},
   "outputs": [],
   "source": [
    "def process_ranks(rank_list):\n",
    "    samples = []\n",
    "    labels = []\n",
    "    for i, feature_folder in enumerate(rank_list):\n",
    "        image_names = next(os.walk(feature_folder))[2]\n",
    "        for image_name in image_names:\n",
    "            image = cv2.imread(f'{feature_folder}/{image_name}', cv2.IMREAD_GRAYSCALE)\n",
    "            white_mask = create_white_mask(image)\n",
    "            contour = cv2.findContours(white_mask, cv2.RETR_EXTERNAL, cv2.CHAIN_APPROX_SIMPLE)[0][0]\n",
    "            corners = find_contour_corners(contour)\n",
    "            if corners is None:\n",
    "                print(f'sample skipped {feature_folder}/{image_name}')\n",
    "                continue\n",
    "            inverted = 255 - image\n",
    "            birds_eye = create_birds_eye_view(inverted, corners, (500, 700))\n",
    "            rank_crop = birds_eye[0:110, 0:60] # 60x110\n",
    "            samples.append(rank_crop)\n",
    "            labels.append(i)\n",
    "    return np.array(samples), np.array(labels)"
   ]
  },
  {
   "cell_type": "code",
   "execution_count": 18,
   "metadata": {},
   "outputs": [],
   "source": [
    "def process_suits(suit_list):\n",
    "    samples = []\n",
    "    labels = []\n",
    "    for i, feature_folder in enumerate(suit_list):\n",
    "        image_names = next(os.walk(feature_folder))[2]\n",
    "        for image_name in image_names:\n",
    "            image = cv2.imread(f'{feature_folder}/{image_name}', cv2.IMREAD_GRAYSCALE)\n",
    "            white_mask = create_white_mask(image)\n",
    "            contour = cv2.findContours(white_mask, cv2.RETR_EXTERNAL, cv2.CHAIN_APPROX_SIMPLE)[0][0]\n",
    "            corners = find_contour_corners(contour)\n",
    "            if corners is None:\n",
    "                print(f'sample skipped {feature_folder}/{image_name}')\n",
    "                continue\n",
    "            inverted = 255 - image\n",
    "            birds_eye = create_birds_eye_view(inverted, corners, (500, 700))\n",
    "            suit_crop = birds_eye[110:180, 0:60] # 60x70\n",
    "            samples.append(suit_crop)\n",
    "            labels.append(i)\n",
    "    return np.array(samples), np.array(labels)"
   ]
  },
  {
   "cell_type": "code",
   "execution_count": 19,
   "metadata": {},
   "outputs": [],
   "source": [
    "rank_samples, rank_labels = process_ranks(RANKS)"
   ]
  },
  {
   "cell_type": "code",
   "execution_count": 20,
   "metadata": {},
   "outputs": [
    {
     "name": "stdout",
     "output_type": "stream",
     "text": [
      "(41600, 110, 60)\n",
      "(41600,)\n"
     ]
    }
   ],
   "source": [
    "print(rank_samples.shape)\n",
    "print(rank_labels.shape)"
   ]
  },
  {
   "cell_type": "code",
   "execution_count": 21,
   "metadata": {},
   "outputs": [
    {
     "name": "stdout",
     "output_type": "stream",
     "text": [
      "0\n",
      "2\n"
     ]
    },
    {
     "data": {
      "image/png": "[encoded data removed]",
      "text/plain": [
       "<Figure size 432x288 with 1 Axes>"
      ]
     },
     "metadata": {
      "needs_background": "light"
     },
     "output_type": "display_data"
    }
   ],
   "source": [
    "plt.imshow(rank_samples[0], cmap='gray')\n",
    "print(rank_labels[0])\n",
    "print(RANKS[rank_labels[0]])"
   ]
  },
  {
   "cell_type": "code",
   "execution_count": 22,
   "metadata": {},
   "outputs": [],
   "source": [
    "suit_samples, suit_labels = process_suits(SUITS)"
   ]
  },
  {
   "cell_type": "code",
   "execution_count": 23,
   "metadata": {},
   "outputs": [
    {
     "name": "stdout",
     "output_type": "stream",
     "text": [
      "(12800, 70, 60)\n",
      "(12800,)\n"
     ]
    }
   ],
   "source": [
    "print(suit_samples.shape)\n",
    "print(suit_labels.shape)"
   ]
  },
  {
   "cell_type": "code",
   "execution_count": 24,
   "metadata": {},
   "outputs": [
    {
     "name": "stdout",
     "output_type": "stream",
     "text": [
      "0\n",
      "clubs\n"
     ]
    },
    {
     "data": {
      "image/png": "[encoded data removed]",
      "text/plain": [
       "<Figure size 432x288 with 1 Axes>"
      ]
     },
     "metadata": {
      "needs_background": "light"
     },
     "output_type": "display_data"
    }
   ],
   "source": [
    "plt.imshow(suit_samples[0], cmap='gray')\n",
    "print(suit_labels[0])\n",
    "print(SUITS[suit_labels[0]])"
   ]
  },
  {
   "cell_type": "code",
   "execution_count": 25,
   "metadata": {},
   "outputs": [],
   "source": [
    "np.save('rank_samples.npy', rank_samples)"
   ]
  },
  {
   "cell_type": "code",
   "execution_count": 26,
   "metadata": {},
   "outputs": [],
   "source": [
    "np.save('rank_labels.npy', rank_labels)"
   ]
  },
  {
   "cell_type": "code",
   "execution_count": 27,
   "metadata": {},
   "outputs": [],
   "source": [
    "np.save('suit_samples.npy', suit_samples)"
   ]
  },
  {
   "cell_type": "code",
   "execution_count": 28,
   "metadata": {},
   "outputs": [],
   "source": [
    "np.save('suit_labels.npy', suit_labels)"
   ]
  }
 ],
 "metadata": {
  "kernelspec": {
   "display_name": "Python 3.10.6 64-bit",
   "language": "python",
   "name": "python3"
  },
  "language_info": {
   "codemirror_mode": {
    "name": "ipython",
    "version": 3
   },
   "file_extension": ".py",
   "mimetype": "text/x-python",
   "name": "python",
   "nbconvert_exporter": "python",
   "pygments_lexer": "ipython3",
   "version": "3.10.6"
  },
  "orig_nbformat": 4,
  "vscode": {
   "interpreter": {
    "hash": "e7370f93d1d0cde622a1f8e1c04877d8463912d04d973331ad4851f04de6915a"
   }
  }
 },
 "nbformat": 4,
 "nbformat_minor": 2
}
